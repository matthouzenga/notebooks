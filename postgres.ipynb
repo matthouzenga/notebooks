{
 "cells": [
  {
   "cell_type": "code",
   "execution_count": 1,
   "metadata": {
    "collapsed": false
   },
   "outputs": [
    {
     "name": "stdout",
     "output_type": "stream",
     "text": [
      "Ign http://ports.ubuntu.com trusty InRelease\n",
      "Get:1 http://ports.ubuntu.com trusty-updates InRelease [65.9 kB]\n",
      "Get:2 http://ports.ubuntu.com trusty-security InRelease [65.9 kB]\n",
      "Get:3 http://ports.ubuntu.com trusty Release.gpg [933 B]\n",
      "Get:4 http://ports.ubuntu.com trusty Release [58.5 kB]\n",
      "Get:5 http://ports.ubuntu.com trusty-updates/main Sources [532 kB]\n",
      "Get:6 http://ports.ubuntu.com trusty-updates/restricted Sources [6,444 B]\n",
      "Get:7 http://ports.ubuntu.com trusty-updates/universe Sources [288 kB]\n",
      "Get:8 http://ports.ubuntu.com trusty-updates/main ppc64el Packages [1,113 kB]\n",
      "Get:9 http://ports.ubuntu.com trusty-updates/restricted ppc64el Packages [40 B]\n",
      "Get:10 http://ports.ubuntu.com trusty-updates/universe ppc64el Packages [601 kB]\n",
      "Get:11 http://ports.ubuntu.com trusty-security/main Sources [220 kB]\n",
      "Get:12 http://ports.ubuntu.com trusty-security/restricted Sources [5,050 B]\n",
      "Get:13 http://ports.ubuntu.com trusty-security/universe Sources [127 kB]\n",
      "Get:14 http://ports.ubuntu.com trusty-security/main ppc64el Packages [754 kB]\n",
      "Get:15 http://ports.ubuntu.com trusty-security/restricted ppc64el Packages [40 B]\n",
      "Get:16 http://ports.ubuntu.com trusty-security/universe ppc64el Packages [338 kB]\n",
      "Get:17 http://ports.ubuntu.com trusty/main Sources [1,335 kB]\n",
      "Get:18 http://ports.ubuntu.com trusty/restricted Sources [5,335 B]\n",
      "Get:19 http://ports.ubuntu.com trusty/universe Sources [7,926 kB]\n",
      "Get:20 http://ports.ubuntu.com trusty/main ppc64el Packages [1,615 kB]\n",
      "Get:21 http://ports.ubuntu.com trusty/restricted ppc64el Packages [40 B]\n",
      "Get:22 http://ports.ubuntu.com trusty/universe ppc64el Packages [7,014 kB]\n",
      "Fetched 22.1 MB in 5s (3,840 kB/s)\n",
      "Reading package lists... Done\n"
     ]
    }
   ],
   "source": [
    "!sudo apt update"
   ]
  },
  {
   "cell_type": "code",
   "execution_count": 2,
   "metadata": {
    "collapsed": false
   },
   "outputs": [
    {
     "name": "stdout",
     "output_type": "stream",
     "text": [
      "Reading package lists... Done\n",
      "Building dependency tree       \n",
      "Reading state information... Done\n",
      "The following extra packages will be installed:\n",
      "  comerr-dev krb5-multidev libgssapi-krb5-2 libgssrpc4 libk5crypto3\n",
      "  libkadm5clnt-mit9 libkadm5srv-mit9 libkdb5-7 libkrb5-3 libkrb5support0\n",
      "  libpq5 libssl-dev libssl-doc libssl1.0.0 zlib1g zlib1g-dev\n",
      "Suggested packages:\n",
      "  doc-base krb5-doc krb5-user postgresql-doc-9.3\n",
      "Recommended packages:\n",
      "  krb5-locales\n",
      "The following NEW packages will be installed:\n",
      "  comerr-dev krb5-multidev libgssrpc4 libkadm5clnt-mit9 libkadm5srv-mit9\n",
      "  libkdb5-7 libpq-dev libpq5 libssl-dev libssl-doc zlib1g-dev\n",
      "The following packages will be upgraded:\n",
      "  libgssapi-krb5-2 libk5crypto3 libkrb5-3 libkrb5support0 libssl1.0.0 zlib1g\n",
      "6 upgraded, 11 newly installed, 0 to remove and 97 not upgraded.\n",
      "Need to get 4,057 kB of archives.\n",
      "After this operation, 12.4 MB of additional disk space will be used.\n",
      "Get:1 http://ports.ubuntu.com/ubuntu-ports/ trusty-updates/main zlib1g ppc64el 1:1.2.8.dfsg-1ubuntu1.1 [48.4 kB]\n",
      "Get:2 http://ports.ubuntu.com/ubuntu-ports/ trusty-updates/main libssl1.0.0 ppc64el 1.0.1f-1ubuntu2.27 [769 kB]\n",
      "Get:3 http://ports.ubuntu.com/ubuntu-ports/ trusty-updates/main libk5crypto3 ppc64el 1.12+dfsg-2ubuntu5.4 [81.6 kB]\n",
      "Get:4 http://ports.ubuntu.com/ubuntu-ports/ trusty-updates/main libgssapi-krb5-2 ppc64el 1.12+dfsg-2ubuntu5.4 [104 kB]\n",
      "Get:5 http://ports.ubuntu.com/ubuntu-ports/ trusty-updates/main libkrb5-3 ppc64el 1.12+dfsg-2ubuntu5.4 [242 kB]\n",
      "Get:6 http://ports.ubuntu.com/ubuntu-ports/ trusty-updates/main libkrb5support0 ppc64el 1.12+dfsg-2ubuntu5.4 [29.9 kB]\n",
      "Get:7 http://ports.ubuntu.com/ubuntu-ports/ trusty-updates/main libgssrpc4 ppc64el 1.12+dfsg-2ubuntu5.4 [49.6 kB]\n",
      "Get:8 http://ports.ubuntu.com/ubuntu-ports/ trusty-updates/main libkadm5clnt-mit9 ppc64el 1.12+dfsg-2ubuntu5.4 [34.1 kB]\n",
      "Get:9 http://ports.ubuntu.com/ubuntu-ports/ trusty-updates/main libkdb5-7 ppc64el 1.12+dfsg-2ubuntu5.4 [34.0 kB]\n",
      "Get:10 http://ports.ubuntu.com/ubuntu-ports/ trusty-updates/main libkadm5srv-mit9 ppc64el 1.12+dfsg-2ubuntu5.4 [47.8 kB]\n",
      "Get:11 http://ports.ubuntu.com/ubuntu-ports/ trusty-updates/main comerr-dev ppc64el 2.1-1.42.9-3ubuntu1.3 [38.7 kB]\n",
      "Get:12 http://ports.ubuntu.com/ubuntu-ports/ trusty-updates/main krb5-multidev ppc64el 1.12+dfsg-2ubuntu5.4 [111 kB]\n",
      "Get:13 http://ports.ubuntu.com/ubuntu-ports/ trusty-updates/main libpq5 ppc64el 9.3.24-0ubuntu0.14.04 [78.3 kB]\n",
      "Get:14 http://ports.ubuntu.com/ubuntu-ports/ trusty-updates/main zlib1g-dev ppc64el 1:1.2.8.dfsg-1ubuntu1.1 [166 kB]\n",
      "Get:15 http://ports.ubuntu.com/ubuntu-ports/ trusty-updates/main libssl-dev ppc64el 1.0.1f-1ubuntu2.27 [1,105 kB]\n",
      "Get:16 http://ports.ubuntu.com/ubuntu-ports/ trusty-updates/main libpq-dev ppc64el 9.3.24-0ubuntu0.14.04 [146 kB]\n",
      "Get:17 http://ports.ubuntu.com/ubuntu-ports/ trusty-updates/main libssl-doc all 1.0.1f-1ubuntu2.27 [972 kB]\n",
      "Fetched 4,057 kB in 0s (13.8 MB/s)\n",
      "Preconfiguring packages ...\n",
      "(Reading database ... 16503 files and directories currently installed.)\n",
      "Preparing to unpack .../zlib1g_1%3a1.2.8.dfsg-1ubuntu1.1_ppc64el.deb ...\n",
      "Unpacking zlib1g:ppc64el (1:1.2.8.dfsg-1ubuntu1.1) over (1:1.2.8.dfsg-1ubuntu1) ...\n",
      "Setting up zlib1g:ppc64el (1:1.2.8.dfsg-1ubuntu1.1) ...\n",
      "Processing triggers for libc-bin (2.19-0ubuntu6.11) ...\n",
      "(Reading database ... 16503 files and directories currently installed.)\n",
      "Preparing to unpack .../libssl1.0.0_1.0.1f-1ubuntu2.27_ppc64el.deb ...\n",
      "Unpacking libssl1.0.0:ppc64el (1.0.1f-1ubuntu2.27) over (1.0.1f-1ubuntu2.22) ...\n",
      "Preparing to unpack .../libk5crypto3_1.12+dfsg-2ubuntu5.4_ppc64el.deb ...\n",
      "Unpacking libk5crypto3:ppc64el (1.12+dfsg-2ubuntu5.4) over (1.12+dfsg-2ubuntu5.3) ...\n",
      "Preparing to unpack .../libgssapi-krb5-2_1.12+dfsg-2ubuntu5.4_ppc64el.deb ...\n",
      "Unpacking libgssapi-krb5-2:ppc64el (1.12+dfsg-2ubuntu5.4) over (1.12+dfsg-2ubuntu5.3) ...\n",
      "Preparing to unpack .../libkrb5-3_1.12+dfsg-2ubuntu5.4_ppc64el.deb ...\n",
      "Unpacking libkrb5-3:ppc64el (1.12+dfsg-2ubuntu5.4) over (1.12+dfsg-2ubuntu5.3) ...\n",
      "Preparing to unpack .../libkrb5support0_1.12+dfsg-2ubuntu5.4_ppc64el.deb ...\n",
      "Unpacking libkrb5support0:ppc64el (1.12+dfsg-2ubuntu5.4) over (1.12+dfsg-2ubuntu5.3) ...\n",
      "Selecting previously unselected package libgssrpc4:ppc64el.\n",
      "Preparing to unpack .../libgssrpc4_1.12+dfsg-2ubuntu5.4_ppc64el.deb ...\n",
      "Unpacking libgssrpc4:ppc64el (1.12+dfsg-2ubuntu5.4) ...\n",
      "Selecting previously unselected package libkadm5clnt-mit9:ppc64el.\n",
      "Preparing to unpack .../libkadm5clnt-mit9_1.12+dfsg-2ubuntu5.4_ppc64el.deb ...\n",
      "Unpacking libkadm5clnt-mit9:ppc64el (1.12+dfsg-2ubuntu5.4) ...\n",
      "Selecting previously unselected package libkdb5-7:ppc64el.\n",
      "Preparing to unpack .../libkdb5-7_1.12+dfsg-2ubuntu5.4_ppc64el.deb ...\n",
      "Unpacking libkdb5-7:ppc64el (1.12+dfsg-2ubuntu5.4) ...\n",
      "Selecting previously unselected package libkadm5srv-mit9:ppc64el.\n",
      "Preparing to unpack .../libkadm5srv-mit9_1.12+dfsg-2ubuntu5.4_ppc64el.deb ...\n",
      "Unpacking libkadm5srv-mit9:ppc64el (1.12+dfsg-2ubuntu5.4) ...\n",
      "Selecting previously unselected package comerr-dev.\n",
      "Preparing to unpack .../comerr-dev_2.1-1.42.9-3ubuntu1.3_ppc64el.deb ...\n",
      "Unpacking comerr-dev (2.1-1.42.9-3ubuntu1.3) ...\n",
      "Selecting previously unselected package krb5-multidev.\n",
      "Preparing to unpack .../krb5-multidev_1.12+dfsg-2ubuntu5.4_ppc64el.deb ...\n",
      "Unpacking krb5-multidev (1.12+dfsg-2ubuntu5.4) ...\n",
      "Selecting previously unselected package libpq5.\n",
      "Preparing to unpack .../libpq5_9.3.24-0ubuntu0.14.04_ppc64el.deb ...\n",
      "Unpacking libpq5 (9.3.24-0ubuntu0.14.04) ...\n",
      "Selecting previously unselected package zlib1g-dev:ppc64el.\n",
      "Preparing to unpack .../zlib1g-dev_1%3a1.2.8.dfsg-1ubuntu1.1_ppc64el.deb ...\n",
      "Unpacking zlib1g-dev:ppc64el (1:1.2.8.dfsg-1ubuntu1.1) ...\n",
      "Selecting previously unselected package libssl-dev:ppc64el.\n",
      "Preparing to unpack .../libssl-dev_1.0.1f-1ubuntu2.27_ppc64el.deb ...\n",
      "Unpacking libssl-dev:ppc64el (1.0.1f-1ubuntu2.27) ...\n",
      "Selecting previously unselected package libpq-dev.\n",
      "Preparing to unpack .../libpq-dev_9.3.24-0ubuntu0.14.04_ppc64el.deb ...\n",
      "Unpacking libpq-dev (9.3.24-0ubuntu0.14.04) ...\n",
      "Selecting previously unselected package libssl-doc.\n",
      "Preparing to unpack .../libssl-doc_1.0.1f-1ubuntu2.27_all.deb ...\n",
      "Unpacking libssl-doc (1.0.1f-1ubuntu2.27) ...\n",
      "Setting up libssl1.0.0:ppc64el (1.0.1f-1ubuntu2.27) ...\n",
      "Setting up libkrb5support0:ppc64el (1.12+dfsg-2ubuntu5.4) ...\n",
      "Setting up libk5crypto3:ppc64el (1.12+dfsg-2ubuntu5.4) ...\n",
      "Setting up libkrb5-3:ppc64el (1.12+dfsg-2ubuntu5.4) ...\n",
      "Setting up libgssapi-krb5-2:ppc64el (1.12+dfsg-2ubuntu5.4) ...\n",
      "Setting up libgssrpc4:ppc64el (1.12+dfsg-2ubuntu5.4) ...\n",
      "Setting up libkadm5clnt-mit9:ppc64el (1.12+dfsg-2ubuntu5.4) ...\n",
      "Setting up libkdb5-7:ppc64el (1.12+dfsg-2ubuntu5.4) ...\n",
      "Setting up libkadm5srv-mit9:ppc64el (1.12+dfsg-2ubuntu5.4) ...\n",
      "Setting up comerr-dev (2.1-1.42.9-3ubuntu1.3) ...\n",
      "Setting up krb5-multidev (1.12+dfsg-2ubuntu5.4) ...\n",
      "Setting up libpq5 (9.3.24-0ubuntu0.14.04) ...\n",
      "Setting up zlib1g-dev:ppc64el (1:1.2.8.dfsg-1ubuntu1.1) ...\n",
      "Setting up libssl-dev:ppc64el (1.0.1f-1ubuntu2.27) ...\n",
      "Setting up libpq-dev (9.3.24-0ubuntu0.14.04) ...\n",
      "Setting up libssl-doc (1.0.1f-1ubuntu2.27) ...\n",
      "Processing triggers for libc-bin (2.19-0ubuntu6.11) ...\n"
     ]
    }
   ],
   "source": [
    "!sudo apt-get -y install libpq-dev"
   ]
  },
  {
   "cell_type": "code",
   "execution_count": 3,
   "metadata": {
    "collapsed": false
   },
   "outputs": [
    {
     "name": "stdout",
     "output_type": "stream",
     "text": [
      "Collecting psycopg2\n",
      "  Downloading https://files.pythonhosted.org/packages/fd/ae/98cb7a0cbb1d748ee547b058b14604bd0e9bf285a8e0cc5d148f8a8a952e/psycopg2-2.8.6.tar.gz (383kB)\n",
      "\u001b[K    100% |████████████████████████████████| 389kB 3.1MB/s \n",
      "\u001b[?25hBuilding wheels for collected packages: psycopg2\n",
      "  Running setup.py bdist_wheel for psycopg2 ... \u001b[?25l-\b \b\\\b \b|\b \b/\b \b-\b \b\\\b \b|\b \b/\b \b-\b \b\\\b \b|\b \b/\b \b-\b \b\\\b \b|\b \b/\b \b-\b \b\\\b \b|\b \b/\b \b-\b \b\\\b \b|\b \b/\b \b-\b \b\\\b \b|\b \b/\b \bdone\n",
      "\u001b[?25h  Stored in directory: /home/jovyan/.cache/pip/wheels/2b/a5/85/8a05cfbb59d4ab25af2a0c82fb0e1b892ba104d6666aecd78c\n",
      "Successfully built psycopg2\n",
      "Installing collected packages: psycopg2\n",
      "Successfully installed psycopg2-2.8.6\n",
      "\u001b[33mYou are using pip version 9.0.1, however version 21.3.1 is available.\n",
      "You should consider upgrading via the 'pip install --upgrade pip' command.\u001b[0m\n"
     ]
    }
   ],
   "source": [
    "!pip install psycopg2"
   ]
  },
  {
   "cell_type": "code",
   "execution_count": 4,
   "metadata": {
    "collapsed": false
   },
   "outputs": [
    {
     "name": "stdout",
     "output_type": "stream",
     "text": [
      "Requirement already satisfied: sqlalchemy in /opt/conda/lib/python3.5/site-packages\n",
      "\u001b[33mYou are using pip version 9.0.1, however version 21.3.1 is available.\n",
      "You should consider upgrading via the 'pip install --upgrade pip' command.\u001b[0m\n"
     ]
    }
   ],
   "source": [
    "!pip install sqlalchemy"
   ]
  },
  {
   "cell_type": "markdown",
   "metadata": {},
   "source": [
    "<p> import python libraries </p>"
   ]
  },
  {
   "cell_type": "code",
   "execution_count": 5,
   "metadata": {
    "collapsed": true
   },
   "outputs": [],
   "source": [
    "import os\n",
    "import psycopg2\n",
    "from sqlalchemy import create_engine\n",
    "from sqlalchemy import Column, String, Integer\n",
    "from sqlalchemy.ext.declarative import declarative_base\n",
    "from sqlalchemy.orm import sessionmaker"
   ]
  },
  {
   "cell_type": "markdown",
   "metadata": {},
   "source": [
    "<p> set username, password and database name </p>"
   ]
  },
  {
   "cell_type": "code",
   "execution_count": 16,
   "metadata": {
    "collapsed": true
   },
   "outputs": [],
   "source": [
    "pUser = \"postgres\"\n",
    "pPassword = \"postgrespassword\"\n",
    "pDatabase = \"postgres\""
   ]
  },
  {
   "cell_type": "markdown",
   "metadata": {},
   "source": [
    "<p> set URI and create database connection </p>"
   ]
  },
  {
   "cell_type": "code",
   "execution_count": 17,
   "metadata": {
    "collapsed": false
   },
   "outputs": [],
   "source": [
    "\n",
    "db_string = \"postgresql://\" + pUser + \":\" + pPassword + \"@postgresql1:5432/\" + pDatabase\n",
    "db = create_engine(db_string)\n",
    "base = declarative_base()"
   ]
  },
  {
   "cell_type": "markdown",
   "metadata": {},
   "source": [
    "<p> define the table in database </p>"
   ]
  },
  {
   "cell_type": "code",
   "execution_count": 18,
   "metadata": {
    "collapsed": false
   },
   "outputs": [],
   "source": [
    "#define the table \n",
    "class Storage(base):\n",
    "    __tablename__ = 'sample'\n",
    "\n",
    "    name = Column(String, primary_key=True)\n",
    "    machinetype = Column(Integer)\n",
    "    model = Column(String)\n",
    "    year = Column(Integer)\n"
   ]
  },
  {
   "cell_type": "markdown",
   "metadata": {},
   "source": [
    "<p> create session; will create table based on 'Storage' class above if not already defined </p>"
   ]
  },
  {
   "cell_type": "code",
   "execution_count": 19,
   "metadata": {
    "collapsed": false
   },
   "outputs": [],
   "source": [
    "Session = sessionmaker(db)\n",
    "session = Session()\n",
    "base.metadata.create_all(db)  #creates the table if not already defined\n"
   ]
  },
  {
   "cell_type": "markdown",
   "metadata": {
    "collapsed": true
   },
   "source": [
    "<p> add new row to table </p>"
   ]
  },
  {
   "cell_type": "code",
   "execution_count": 20,
   "metadata": {
    "collapsed": true
   },
   "outputs": [],
   "source": [
    "#Insert new row into database\n",
    "\n",
    "new_storage = Storage(name=\"abc\", machinetype=1234, model=\"xyz\", year=2021)\n",
    "session.add(new_storage)\n",
    "session.commit()"
   ]
  },
  {
   "cell_type": "markdown",
   "metadata": {},
   "source": [
    "<p> query all rows from database </p>"
   ]
  },
  {
   "cell_type": "code",
   "execution_count": 21,
   "metadata": {
    "collapsed": true
   },
   "outputs": [],
   "source": [
    "storage = session.query(Storage)"
   ]
  },
  {
   "cell_type": "code",
   "execution_count": 24,
   "metadata": {
    "collapsed": false
   },
   "outputs": [
    {
     "name": "stdout",
     "output_type": "stream",
     "text": [
      "SVC 2145 DH8 2018\n",
      "ESS 2105 800 2001\n",
      "abc 1234 xyz 2021\n"
     ]
    }
   ],
   "source": [
    "for s in storage:\n",
    "    print(s.name, s.machinetype, s.model, s.year)"
   ]
  },
  {
   "cell_type": "code",
   "execution_count": null,
   "metadata": {
    "collapsed": true
   },
   "outputs": [],
   "source": []
  }
 ],
 "metadata": {
  "kernelspec": {
   "display_name": "Python 3",
   "language": "python",
   "name": "python3"
  },
  "language_info": {
   "codemirror_mode": {
    "name": "ipython",
    "version": 3
   },
   "file_extension": ".py",
   "mimetype": "text/x-python",
   "name": "python",
   "nbconvert_exporter": "python",
   "pygments_lexer": "ipython3",
   "version": "3.5.2"
  }
 },
 "nbformat": 4,
 "nbformat_minor": 2
}

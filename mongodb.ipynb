{
 "cells": [
  {
   "cell_type": "markdown",
   "metadata": {},
   "source": [
    "<p> install pymongo library on container, if needed </p>"
   ]
  },
  {
   "cell_type": "code",
   "execution_count": 1,
   "metadata": {
    "collapsed": false
   },
   "outputs": [
    {
     "name": "stdout",
     "output_type": "stream",
     "text": [
      "Requirement already satisfied: pymongo in /opt/conda/lib/python3.5/site-packages\n",
      "\u001b[33mYou are using pip version 9.0.1, however version 21.3.1 is available.\n",
      "You should consider upgrading via the 'pip install --upgrade pip' command.\u001b[0m\n"
     ]
    }
   ],
   "source": [
    "!pip install pymongo"
   ]
  },
  {
   "cell_type": "markdown",
   "metadata": {},
   "source": [
    "<p> import pymongo library </p>"
   ]
  },
  {
   "cell_type": "code",
   "execution_count": 2,
   "metadata": {
    "collapsed": false
   },
   "outputs": [],
   "source": [
    "import pymongo\n",
    "from pymongo import MongoClient"
   ]
  },
  {
   "cell_type": "markdown",
   "metadata": {},
   "source": [
    "<p> set userid, password for mongodb </p>"
   ]
  },
  {
   "cell_type": "code",
   "execution_count": 3,
   "metadata": {
    "collapsed": true
   },
   "outputs": [],
   "source": [
    "mUser = \"myUserAdmin\"\n",
    "mPassword = \"password\"\n",
    "mDatabase = \"testdb\"\n",
    "host = \"test-ibm-mongodb-enterprise-helm-service\""
   ]
  },
  {
   "cell_type": "code",
   "execution_count": 4,
   "metadata": {
    "collapsed": false
   },
   "outputs": [],
   "source": [
    "mongo_URI = \"mongodb://\" + mUser + \":\" + mPassword + \"@test-ibm-mongodb-enterprise-helm-service:27017/\""
   ]
  },
  {
   "cell_type": "markdown",
   "metadata": {},
   "source": [
    "<p> create MongoDB client using 1 of the following 2 options </p>"
   ]
  },
  {
   "cell_type": "code",
   "execution_count": 5,
   "metadata": {
    "collapsed": false
   },
   "outputs": [],
   "source": [
    "client = MongoClient(mongo_URI)"
   ]
  },
  {
   "cell_type": "code",
   "execution_count": 41,
   "metadata": {
    "collapsed": true
   },
   "outputs": [],
   "source": [
    "# OR could create client without URI\n",
    "client = MongoClient(host=host,\n",
    "         port=int(27017),\n",
    "         username=mUser,\n",
    "         password=mPassword) "
   ]
  },
  {
   "cell_type": "markdown",
   "metadata": {},
   "source": [
    "<p> set database </p>"
   ]
  },
  {
   "cell_type": "code",
   "execution_count": 9,
   "metadata": {
    "collapsed": true
   },
   "outputs": [],
   "source": [
    "db = client['testdb']"
   ]
  },
  {
   "cell_type": "markdown",
   "metadata": {},
   "source": [
    "<p> create item to add to collection and then insert into 'equipment' collection </p>"
   ]
  },
  {
   "cell_type": "code",
   "execution_count": 10,
   "metadata": {
    "collapsed": true
   },
   "outputs": [],
   "source": [
    "item = {\n",
    "    'name' : 'def',\n",
    "    'machine_type' : 2345,\n",
    "    'model' : 'XYZ',\n",
    "    'year' : 9876\n",
    "    }"
   ]
  },
  {
   "cell_type": "code",
   "execution_count": 11,
   "metadata": {
    "collapsed": false
   },
   "outputs": [],
   "source": [
    "result=db.equipment.insert_one(item)"
   ]
  },
  {
   "cell_type": "markdown",
   "metadata": {},
   "source": [
    "<p> use find method to return all items in collection </p>"
   ]
  },
  {
   "cell_type": "code",
   "execution_count": 12,
   "metadata": {
    "collapsed": false
   },
   "outputs": [],
   "source": [
    "cursor=db.equipment.find({})\n",
    "#out = dumps(cursor)"
   ]
  },
  {
   "cell_type": "markdown",
   "metadata": {},
   "source": [
    "<p> iterate through and print items (cursor)"
   ]
  },
  {
   "cell_type": "code",
   "execution_count": 15,
   "metadata": {
    "collapsed": false
   },
   "outputs": [
    {
     "name": "stdout",
     "output_type": "stream",
     "text": [
      "{'machine_type': 2145, 'year': 2018, 'model': 'DH8', 'name': 'SVC', '_id': ObjectId('61a8e2c2b3e86e3bed9ae670')}\n",
      "{'machine_type': 2145, 'year': 2018, 'name': 'SVC', 'model': 'DH8', '_id': ObjectId('61ae2e7eb3b71e88b51fbfaf')}\n",
      "{'machine_type': 1234, 'year': 2017, 'name': 'abc', 'model': 'EFG', '_id': ObjectId('61b1113839eb4a98835d6a5b')}\n",
      "{'machine_type': 2345, 'name': 'def', 'model': 'XYZ', '_id': ObjectId('61b79de9b42d7b5b396b10f3'), 'year': 9876}\n"
     ]
    }
   ],
   "source": [
    "collection = db['equipment']\n",
    "cursor = collection.find({})\n",
    "for document in cursor:\n",
    "          print(document)"
   ]
  },
  {
   "cell_type": "markdown",
   "metadata": {},
   "source": [
    "<p> OR, create new list of year and name for each item </p>"
   ]
  },
  {
   "cell_type": "code",
   "execution_count": 13,
   "metadata": {
    "collapsed": false
   },
   "outputs": [],
   "source": [
    "output = []\n",
    "for c in cursor:\n",
    "    output.append({'year' : c['year'], 'name' : c['name']})"
   ]
  },
  {
   "cell_type": "code",
   "execution_count": 14,
   "metadata": {
    "collapsed": false
   },
   "outputs": [
    {
     "name": "stdout",
     "output_type": "stream",
     "text": [
      "[{'year': 2018, 'name': 'SVC'}, {'year': 2018, 'name': 'SVC'}, {'year': 2017, 'name': 'abc'}, {'year': 9876, 'name': 'def'}]\n"
     ]
    }
   ],
   "source": [
    "print(output)"
   ]
  },
  {
   "cell_type": "markdown",
   "metadata": {},
   "source": [
    "<p> requests is used to communicate with APIs </p>"
   ]
  },
  {
   "cell_type": "code",
   "execution_count": null,
   "metadata": {
    "collapsed": false
   },
   "outputs": [],
   "source": [
    "import requests"
   ]
  },
  {
   "cell_type": "markdown",
   "metadata": {},
   "source": [
    "<p> call API that returns current bitcoin price data in json </p>"
   ]
  },
  {
   "cell_type": "code",
   "execution_count": 68,
   "metadata": {
    "collapsed": false
   },
   "outputs": [
    {
     "name": "stdout",
     "output_type": "stream",
     "text": [
      "{'chartName': 'Bitcoin', 'disclaimer': 'This data was produced from the CoinDesk Bitcoin Price Index (USD). Non-USD currency data converted using hourly conversion rate from openexchangerates.org', 'time': {'updated': 'Dec 2, 2021 16:07:00 UTC', 'updatedISO': '2021-12-02T16:07:00+00:00', 'updateduk': 'Dec 2, 2021 at 16:07 GMT'}, 'bpi': {'GBP': {'rate': '42,547.4468', 'code': 'GBP', 'symbol': '&pound;', 'description': 'British Pound Sterling', 'rate_float': 42547.4468}, 'EUR': {'rate': '50,024.8437', 'code': 'EUR', 'symbol': '&euro;', 'description': 'Euro', 'rate_float': 50024.8437}, 'USD': {'rate': '56,616.9217', 'code': 'USD', 'symbol': '&#36;', 'description': 'United States Dollar', 'rate_float': 56616.9217}}}\n"
     ]
    }
   ],
   "source": [
    "#call https://api.coindesk.com/v1/bpi/currentprice.json for sample json\n",
    "#equivalent to 'curl -X GET 'https://api.coindesk.com/v1/bpi/currentprice.json'\n",
    "response = requests.get(\"https://api.coindesk.com/v1/bpi/currentprice.json\")\n",
    "data = response.json()\n",
    "print(data)"
   ]
  },
  {
   "cell_type": "code",
   "execution_count": 66,
   "metadata": {
    "collapsed": false
   },
   "outputs": [
    {
     "name": "stdout",
     "output_type": "stream",
     "text": [
      "{'updated': 'Dec 2, 2021 15:56:00 UTC', 'updatedISO': '2021-12-02T15:56:00+00:00', 'updateduk': 'Dec 2, 2021 at 15:56 GMT'}\n"
     ]
    }
   ],
   "source": [
    "print(data['time'])"
   ]
  },
  {
   "cell_type": "code",
   "execution_count": 65,
   "metadata": {
    "collapsed": false
   },
   "outputs": [
    {
     "name": "stdout",
     "output_type": "stream",
     "text": [
      "Dec 2, 2021 15:56:00 UTC\n"
     ]
    }
   ],
   "source": [
    "print(data['time']['updated'])"
   ]
  },
  {
   "cell_type": "code",
   "execution_count": 69,
   "metadata": {
    "collapsed": true
   },
   "outputs": [],
   "source": [
    "result=db.bitcoin.insert_one(data)"
   ]
  },
  {
   "cell_type": "code",
   "execution_count": 70,
   "metadata": {
    "collapsed": false
   },
   "outputs": [
    {
     "name": "stdout",
     "output_type": "stream",
     "text": [
      "{'_id': ObjectId('61a8ed5eb3e86e3bed9ae671'), 'disclaimer': 'This data was produced from the CoinDesk Bitcoin Price Index (USD). Non-USD currency data converted using hourly conversion rate from openexchangerates.org', 'bpi': {'GBP': {'rate': '42,345.8940', 'code': 'GBP', 'symbol': '&pound;', 'description': 'British Pound Sterling', 'rate_float': 42345.894}, 'EUR': {'rate': '49,736.9165', 'code': 'EUR', 'symbol': '&euro;', 'description': 'Euro', 'rate_float': 49736.9165}, 'USD': {'rate': '56,392.4684', 'code': 'USD', 'symbol': '&#36;', 'description': 'United States Dollar', 'rate_float': 56392.4684}}, 'chartName': 'Bitcoin', 'time': {'updated': 'Dec 2, 2021 15:56:00 UTC', 'updatedISO': '2021-12-02T15:56:00+00:00', 'updateduk': 'Dec 2, 2021 at 15:56 GMT'}}\n",
      "{'_id': ObjectId('61a8ef51b3e86e3bed9ae672'), 'disclaimer': 'This data was produced from the CoinDesk Bitcoin Price Index (USD). Non-USD currency data converted using hourly conversion rate from openexchangerates.org', 'bpi': {'GBP': {'rate': '42,547.4468', 'code': 'GBP', 'symbol': '&pound;', 'description': 'British Pound Sterling', 'rate_float': 42547.4468}, 'EUR': {'rate': '50,024.8437', 'code': 'EUR', 'symbol': '&euro;', 'description': 'Euro', 'rate_float': 50024.8437}, 'USD': {'rate': '56,616.9217', 'code': 'USD', 'symbol': '&#36;', 'description': 'United States Dollar', 'rate_float': 56616.9217}}, 'chartName': 'Bitcoin', 'time': {'updated': 'Dec 2, 2021 16:07:00 UTC', 'updatedISO': '2021-12-02T16:07:00+00:00', 'updateduk': 'Dec 2, 2021 at 16:07 GMT'}}\n"
     ]
    }
   ],
   "source": [
    "collection = db['bitcoin']\n",
    "cursor = collection.find({})\n",
    "for document in cursor:\n",
    "          print(document)"
   ]
  },
  {
   "cell_type": "code",
   "execution_count": null,
   "metadata": {
    "collapsed": true
   },
   "outputs": [],
   "source": []
  }
 ],
 "metadata": {
  "kernelspec": {
   "display_name": "Python 3",
   "language": "python",
   "name": "python3"
  },
  "language_info": {
   "codemirror_mode": {
    "name": "ipython",
    "version": 3
   },
   "file_extension": ".py",
   "mimetype": "text/x-python",
   "name": "python",
   "nbconvert_exporter": "python",
   "pygments_lexer": "ipython3",
   "version": "3.5.2"
  }
 },
 "nbformat": 4,
 "nbformat_minor": 2
}
